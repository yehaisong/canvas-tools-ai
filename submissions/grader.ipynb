{
 "cells": [
  {
   "cell_type": "markdown",
   "metadata": {},
   "source": [
    "# Grade and comment submissions using OpenAI API and Canvas API"
   ]
  },
  {
   "cell_type": "markdown",
   "metadata": {},
   "source": [
    "## Define functions"
   ]
  },
  {
   "cell_type": "code",
   "execution_count": null,
   "metadata": {
    "dotnet_interactive": {
     "language": "csharp"
    },
    "polyglot_notebook": {
     "kernelName": "csharp"
    }
   },
   "outputs": [],
   "source": [
    "import sys\n",
    "sys.path.append(\"../modules\")\n",
    "import canvas_requests as cr\n",
    "import ctlassistant as at\n",
    "from functions import grade_assignment,remove_all_submissions_grades,DEFAULT_CHAT_MODEL\n",
    "cr.API_URL = \"https://cedarville.instructure.com/api/v1/\"\n",
    "DEFAULT_CHAT_MODEL = at.CHAT_MODEL[2] # 2 for 4o-mini, 3 for o3-mini\n",
    "print(cr.API_URL)\n",
    "print(DEFAULT_CHAT_MODEL)"
   ]
  },
  {
   "cell_type": "markdown",
   "metadata": {},
   "source": [
    "## My Sandbox"
   ]
  },
  {
   "cell_type": "code",
   "execution_count": null,
   "metadata": {
    "dotnet_interactive": {
     "language": "csharp"
    },
    "polyglot_notebook": {
     "kernelName": "csharp"
    }
   },
   "outputs": [],
   "source": [
    "print(cr.API_URL)\n",
    "print(cr.API_KEY)\n",
    "print(at.client.api_key)\n",
    "grading_guidelines = \"\"\"\"\"\"\n",
    "custom_rubric= None #json.load(open(\"rubrics/written_comm_rubric.json\"))\n",
    "#print(custom_rubric)\n",
    "grading_instructions_end=\"Do not include your rubric item feedback in the overall comments.\"\n",
    "userids = []\n",
    "courseid = 83\n",
    "assignmentid = 6113\n",
    "show_username_in_report = True #show username in the report\n",
    "submit_grades = True #submit grades to Canvas\n",
    "override_grade = False #override grades if the submission has been graded\n",
    "save_to_file = True #save the grading results to a file\n",
    "temperature = 0 #temperature for AI grading\n",
    "skip_graded = False #skip graded submissions\n",
    "top_n = -1 #grade all submissions. If not -1, grade the top n submissions. Works with userids.\n",
    "# Call AI grading function\n",
    "grade_assignment(courseid,assignmentid,grading_guidelines,grading_instructions_end,userids,custom_rubric,show_username_in_report,submit_grades,override_grade,save_to_file,temperature,skip_graded,top_n)\n"
   ]
  },
  {
   "cell_type": "code",
   "execution_count": null,
   "metadata": {},
   "outputs": [],
   "source": []
  },
  {
   "cell_type": "markdown",
   "metadata": {},
   "source": [
    "### Remove grades"
   ]
  },
  {
   "cell_type": "code",
   "execution_count": null,
   "metadata": {
    "dotnet_interactive": {
     "language": "csharp"
    },
    "polyglot_notebook": {
     "kernelName": "csharp"
    }
   },
   "outputs": [],
   "source": [
    "# remove grades\n",
    "courseid = 83\n",
    "assignmentid = 6113\n",
    "remove_all_submissions_grades(courseid,assignmentid)"
   ]
  }
 ],
 "metadata": {
  "kernelspec": {
   "display_name": "canvas-tools-ai-xkYJfffj",
   "language": "python",
   "name": "python3"
  },
  "language_info": {
   "codemirror_mode": {
    "name": "ipython",
    "version": 3
   },
   "file_extension": ".py",
   "mimetype": "text/x-python",
   "name": "python",
   "nbconvert_exporter": "python",
   "pygments_lexer": "ipython3",
   "version": "3.12.8"
  },
  "orig_nbformat": 4,
  "polyglot_notebook": {
   "kernelInfo": {
    "defaultKernelName": "csharp",
    "items": [
     {
      "aliases": [],
      "name": "csharp"
     }
    ]
   }
  }
 },
 "nbformat": 4,
 "nbformat_minor": 2
}
